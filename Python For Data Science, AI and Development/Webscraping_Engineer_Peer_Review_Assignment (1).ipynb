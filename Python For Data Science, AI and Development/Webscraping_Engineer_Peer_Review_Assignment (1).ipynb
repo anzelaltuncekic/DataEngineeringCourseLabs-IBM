{
  "metadata": {
    "kernelspec": {
      "name": "python",
      "display_name": "Pyolite",
      "language": "python"
    },
    "language_info": {
      "codemirror_mode": {
        "name": "python",
        "version": 3
      },
      "file_extension": ".py",
      "mimetype": "text/x-python",
      "name": "python",
      "nbconvert_exporter": "python",
      "pygments_lexer": "ipython3",
      "version": "3.8"
    }
  },
  "nbformat_minor": 4,
  "nbformat": 4,
  "cells": [
    {
      "cell_type": "markdown",
      "source": "<p style=\"text-align:center\">\n    <a href=\"https://skills.network/?utm_medium=Exinfluencer&utm_source=Exinfluencer&utm_content=000026UJ&utm_term=10006555&utm_id=NA-SkillsNetwork-Channel-SkillsNetworkCoursesIBMDeveloperSkillsNetworkPY0221ENSkillsNetwork899-2022-01-01\" target=\"_blank\">\n    <img src=\"https://cf-courses-data.s3.us.cloud-object-storage.appdomain.cloud/assets/logos/SN_web_lightmode.png\" width=\"200\" alt=\"Skills Network Logo\"  />\n    </a>\n</p>\n",
      "metadata": {}
    },
    {
      "cell_type": "markdown",
      "source": "# Peer Review Assignment - Data Engineer - Webscraping\n",
      "metadata": {}
    },
    {
      "cell_type": "markdown",
      "source": "Estimated time needed: **20** minutes\n",
      "metadata": {}
    },
    {
      "cell_type": "markdown",
      "source": "## Objectives\n\nIn this part you will:\n\n- Use webscraping to get bank information\n",
      "metadata": {}
    },
    {
      "cell_type": "markdown",
      "source": "For this lab, we are going to be using Python and several Python libraries. Some of these libraries might be installed in your lab environment or in SN Labs. Others may need to be installed by you. The cells below will install these libraries when executed.\n",
      "metadata": {}
    },
    {
      "cell_type": "code",
      "source": "#!mamba install pandas==1.3.3 -y\n#!mamba install requests==2.26.0 -y\n!mamba install bs4==4.10.0 -y\n!mamba install html5lib==1.1 -y",
      "metadata": {},
      "execution_count": null,
      "outputs": []
    },
    {
      "cell_type": "markdown",
      "source": "## Imports\n\nImport any additional libraries you may need here.\n",
      "metadata": {}
    },
    {
      "cell_type": "code",
      "source": "from bs4 import BeautifulSoup\nimport html5lib\nimport requests\nimport pandas as pd",
      "metadata": {},
      "execution_count": null,
      "outputs": []
    },
    {
      "cell_type": "markdown",
      "source": "## Extract Data Using Web Scraping\n",
      "metadata": {}
    },
    {
      "cell_type": "markdown",
      "source": "The wikipedia webpage https://en.wikipedia.org/wiki/List_of_largest_banks provides information about largest banks in the world by various parameters. Scrape the data from the table 'By market capitalization' and store it in a JSON file.\n",
      "metadata": {}
    },
    {
      "cell_type": "markdown",
      "source": "### Webpage Contents\n\nGather the contents of the webpage in text format using the `requests` library and assign it to the variable <code>html_data</code>\n",
      "metadata": {}
    },
    {
      "cell_type": "code",
      "source": "#Write your code here\n",
      "metadata": {},
      "execution_count": null,
      "outputs": []
    },
    {
      "cell_type": "markdown",
      "source": "<b>Question 1</b> Print out the output of the following line, and remember it as it will be a quiz question:\n",
      "metadata": {}
    },
    {
      "cell_type": "code",
      "source": "html_data[101:124]",
      "metadata": {},
      "execution_count": null,
      "outputs": []
    },
    {
      "cell_type": "markdown",
      "source": "### Scraping the Data\n\n<b> Question 2</b> Using the contents and `beautiful soup` load the data from the `By market capitalization` table into a `pandas` dataframe. The dataframe should have the bank `Name` and `Market Cap (US$ Billion)` as column names.  Display the first five rows using head. \n",
      "metadata": {}
    },
    {
      "cell_type": "markdown",
      "source": "Using BeautifulSoup parse the contents of the webpage.\n",
      "metadata": {}
    },
    {
      "cell_type": "code",
      "source": "#Replace the dots below\nsoup=\"......\"",
      "metadata": {},
      "execution_count": null,
      "outputs": []
    },
    {
      "cell_type": "markdown",
      "source": "Load the data from the `By market capitalization` table into a pandas dataframe. The dataframe should have the bank `Name` and `Market Cap (US$ Billion)` as column names. Using the empty dataframe `data` and the given loop extract the necessary data from each row and append it to the empty dataframe.\n",
      "metadata": {}
    },
    {
      "cell_type": "code",
      "source": "data = pd.DataFrame(columns=[\"Name\", \"Market Cap (US$ Billion)\"])\n\nfor row in soup.find_all('tbody')[2].find_all('tr'):\n    col = row.find_all('td')\n    #Write your code here",
      "metadata": {},
      "execution_count": null,
      "outputs": []
    },
    {
      "cell_type": "markdown",
      "source": "**Question 3** Display the first five rows using the `head` function.\n",
      "metadata": {}
    },
    {
      "cell_type": "code",
      "source": "#Write your code here\ndata.head()",
      "metadata": {},
      "execution_count": null,
      "outputs": []
    },
    {
      "cell_type": "markdown",
      "source": "\n### Loading the Data\n\nUsually you will Load the `pandas` dataframe created above into a JSON named `bank_market_cap.json` using the `to_json()` function, but this time the data will be sent to another team who will split the data file into two files and inspect it. If you save the data it will interfere with the next part of the assignment.\n",
      "metadata": {}
    },
    {
      "cell_type": "code",
      "source": "#Write your code here\n",
      "metadata": {},
      "execution_count": null,
      "outputs": []
    },
    {
      "cell_type": "markdown",
      "source": "## Authors\n",
      "metadata": {}
    },
    {
      "cell_type": "markdown",
      "source": "Ramesh Sannareddy, Joseph Santarcangelo and Azim Hirjani\n",
      "metadata": {}
    },
    {
      "cell_type": "markdown",
      "source": "### Other Contributors\n",
      "metadata": {}
    },
    {
      "cell_type": "markdown",
      "source": "Rav Ahuja\n",
      "metadata": {}
    },
    {
      "cell_type": "markdown",
      "source": "## Change Log\n",
      "metadata": {}
    },
    {
      "cell_type": "markdown",
      "source": "| Date (YYYY-MM-DD) | Version | Changed By        | Change Description                 |\n| ----------------- | ------- | ----------------- | ---------------------------------- |\n| 2022-07-12        | 0.2     | Appalabhaktula Hema | Corrected the code and markdown |\n| 2020-11-25        | 0.1     | Ramesh Sannareddy | Created initial version of the lab |\n",
      "metadata": {}
    },
    {
      "cell_type": "markdown",
      "source": "Copyright © 2020 IBM Corporation.\n",
      "metadata": {}
    }
  ]
}